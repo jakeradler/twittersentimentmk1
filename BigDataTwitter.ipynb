{
  "nbformat": 4,
  "nbformat_minor": 0,
  "metadata": {
    "colab": {
      "name": "BigDataTwitter.ipynb",
      "provenance": [],
      "collapsed_sections": [],
      "toc_visible": true,
      "authorship_tag": "ABX9TyPtbmxT/4ItB8aD1LUtnJaU",
      "include_colab_link": true
    },
    "kernelspec": {
      "name": "python3",
      "display_name": "Python 3"
    },
    "language_info": {
      "name": "python"
    }
  },
  "cells": [
    {
      "cell_type": "markdown",
      "metadata": {
        "id": "view-in-github",
        "colab_type": "text"
      },
      "source": [
        "<a href=\"https://colab.research.google.com/github/jrjradler/twittersentimentmk1/blob/main/BigDataTwitter.ipynb\" target=\"_parent\"><img src=\"https://colab.research.google.com/assets/colab-badge.svg\" alt=\"Open In Colab\"/></a>"
      ]
    },
    {
      "cell_type": "code",
      "metadata": {
        "id": "XKlST_vL4lx8"
      },
      "source": [
        "#import lib\n",
        "from textblob import TextBlob\n",
        "from wordcloud import WordCloud\n",
        "import numpy as np\n",
        "import re\n",
        "import matplotlib.pyplot as plt\n",
        "import os\n",
        "import tweepy\n",
        "import pandas as pd\n",
        "plt.style.use('fivethirtyeight')"
      ],
      "execution_count": 1,
      "outputs": []
    },
    {
      "cell_type": "code",
      "metadata": {
        "colab": {
          "base_uri": "https://localhost:8080/",
          "height": 632
        },
        "id": "wA0A2CEf3WEb",
        "outputId": "6101b83a-288a-4c2b-a454-b998eb348599"
      },
      "source": [
        "#Importing the dataset\n",
        "data_file = 'Bitcoin_tweets.csv'\n",
        "df = pd.read_csv(data_file)\n",
        "# Show the first 5 rows of data or the head (Fun Fact: There is also .tail() which shows the last 5 rows - zero indexed)\n",
        "df.head()"
      ],
      "execution_count": 58,
      "outputs": [
        {
          "output_type": "stream",
          "text": [
            "/usr/local/lib/python3.7/dist-packages/IPython/core/interactiveshell.py:2718: DtypeWarning: Columns (5,6,7,12) have mixed types.Specify dtype option on import or set low_memory=False.\n",
            "  interactivity=interactivity, compiler=compiler, result=result)\n"
          ],
          "name": "stderr"
        },
        {
          "output_type": "execute_result",
          "data": {
            "text/html": [
              "<div>\n",
              "<style scoped>\n",
              "    .dataframe tbody tr th:only-of-type {\n",
              "        vertical-align: middle;\n",
              "    }\n",
              "\n",
              "    .dataframe tbody tr th {\n",
              "        vertical-align: top;\n",
              "    }\n",
              "\n",
              "    .dataframe thead th {\n",
              "        text-align: right;\n",
              "    }\n",
              "</style>\n",
              "<table border=\"1\" class=\"dataframe\">\n",
              "  <thead>\n",
              "    <tr style=\"text-align: right;\">\n",
              "      <th></th>\n",
              "      <th>user_name</th>\n",
              "      <th>user_location</th>\n",
              "      <th>user_description</th>\n",
              "      <th>user_created</th>\n",
              "      <th>user_followers</th>\n",
              "      <th>user_friends</th>\n",
              "      <th>user_favourites</th>\n",
              "      <th>user_verified</th>\n",
              "      <th>date</th>\n",
              "      <th>text</th>\n",
              "      <th>hashtags</th>\n",
              "      <th>source</th>\n",
              "      <th>is_retweet</th>\n",
              "    </tr>\n",
              "  </thead>\n",
              "  <tbody>\n",
              "    <tr>\n",
              "      <th>0</th>\n",
              "      <td>DeSota Wilson</td>\n",
              "      <td>Atlanta, GA</td>\n",
              "      <td>Biz Consultant, real estate, fintech, startups...</td>\n",
              "      <td>2009-04-26 20:05:09</td>\n",
              "      <td>8534.0</td>\n",
              "      <td>7605</td>\n",
              "      <td>4838</td>\n",
              "      <td>False</td>\n",
              "      <td>2021-02-10 23:59:04</td>\n",
              "      <td>Blue Ridge Bank shares halted by NYSE after #b...</td>\n",
              "      <td>['bitcoin']</td>\n",
              "      <td>Twitter Web App</td>\n",
              "      <td>False</td>\n",
              "    </tr>\n",
              "    <tr>\n",
              "      <th>1</th>\n",
              "      <td>CryptoND</td>\n",
              "      <td>NaN</td>\n",
              "      <td>😎 BITCOINLIVE is a Dutch platform aimed at inf...</td>\n",
              "      <td>2019-10-17 20:12:10</td>\n",
              "      <td>6769.0</td>\n",
              "      <td>1532</td>\n",
              "      <td>25483</td>\n",
              "      <td>False</td>\n",
              "      <td>2021-02-10 23:58:48</td>\n",
              "      <td>😎 Today, that's this #Thursday, we will do a \"...</td>\n",
              "      <td>['Thursday', 'Btc', 'wallet', 'security']</td>\n",
              "      <td>Twitter for Android</td>\n",
              "      <td>False</td>\n",
              "    </tr>\n",
              "    <tr>\n",
              "      <th>2</th>\n",
              "      <td>Tdlmatias</td>\n",
              "      <td>London, England</td>\n",
              "      <td>IM Academy : The best #forex, #SelfEducation, ...</td>\n",
              "      <td>2014-11-10 10:50:37</td>\n",
              "      <td>128.0</td>\n",
              "      <td>332</td>\n",
              "      <td>924</td>\n",
              "      <td>False</td>\n",
              "      <td>2021-02-10 23:54:48</td>\n",
              "      <td>Guys evening, I have read this article about B...</td>\n",
              "      <td>NaN</td>\n",
              "      <td>Twitter Web App</td>\n",
              "      <td>False</td>\n",
              "    </tr>\n",
              "    <tr>\n",
              "      <th>3</th>\n",
              "      <td>Crypto is the future</td>\n",
              "      <td>NaN</td>\n",
              "      <td>I will post a lot of buying signals for BTC tr...</td>\n",
              "      <td>2019-09-28 16:48:12</td>\n",
              "      <td>625.0</td>\n",
              "      <td>129</td>\n",
              "      <td>14</td>\n",
              "      <td>False</td>\n",
              "      <td>2021-02-10 23:54:33</td>\n",
              "      <td>$BTC A big chance in a billion! Price: \\487264...</td>\n",
              "      <td>['Bitcoin', 'FX', 'BTC', 'crypto']</td>\n",
              "      <td>dlvr.it</td>\n",
              "      <td>False</td>\n",
              "    </tr>\n",
              "    <tr>\n",
              "      <th>4</th>\n",
              "      <td>Alex Kirchmaier 🇦🇹🇸🇪 #FactsSuperspreader</td>\n",
              "      <td>Europa</td>\n",
              "      <td>Co-founder @RENJERJerky | Forbes 30Under30 | I...</td>\n",
              "      <td>2016-02-03 13:15:55</td>\n",
              "      <td>1249.0</td>\n",
              "      <td>1472</td>\n",
              "      <td>10482</td>\n",
              "      <td>False</td>\n",
              "      <td>2021-02-10 23:54:06</td>\n",
              "      <td>This network is secured by 9 508 nodes as of t...</td>\n",
              "      <td>['BTC']</td>\n",
              "      <td>Twitter Web App</td>\n",
              "      <td>False</td>\n",
              "    </tr>\n",
              "  </tbody>\n",
              "</table>\n",
              "</div>"
            ],
            "text/plain": [
              "                                  user_name  ... is_retweet\n",
              "0                             DeSota Wilson  ...      False\n",
              "1                                  CryptoND  ...      False\n",
              "2                                 Tdlmatias  ...      False\n",
              "3                      Crypto is the future  ...      False\n",
              "4  Alex Kirchmaier 🇦🇹🇸🇪 #FactsSuperspreader  ...      False\n",
              "\n",
              "[5 rows x 13 columns]"
            ]
          },
          "metadata": {
            "tags": []
          },
          "execution_count": 58
        }
      ]
    },
    {
      "cell_type": "code",
      "metadata": {
        "id": "Ae67xphe_kdt"
      },
      "source": [
        "#First step in cleaning data is removing any unnecessary columns that don't provide us with value. I'm only looking at text here, so everything else needs to be removed.\n",
        "df.drop(labels=['user_name','user_location','user_description','user_created','user_followers','user_friends','user_favourites','user_verified','date','hashtags','source','is_retweet'],inplace=True,axis=1)"
      ],
      "execution_count": 43,
      "outputs": []
    },
    {
      "cell_type": "code",
      "metadata": {
        "colab": {
          "base_uri": "https://localhost:8080/",
          "height": 204
        },
        "id": "7ihux553ArnD",
        "outputId": "f5b044b3-3570-4d7c-cc88-54cc82e2638d"
      },
      "source": [
        "#For smplicity I changed the 'text' column to 'Tweets'.\n",
        "df.columns = ['Tweets']\n",
        "df.head() #Helped me confirm that the column was indeed changed.\n"
      ],
      "execution_count": 44,
      "outputs": [
        {
          "output_type": "execute_result",
          "data": {
            "text/html": [
              "<div>\n",
              "<style scoped>\n",
              "    .dataframe tbody tr th:only-of-type {\n",
              "        vertical-align: middle;\n",
              "    }\n",
              "\n",
              "    .dataframe tbody tr th {\n",
              "        vertical-align: top;\n",
              "    }\n",
              "\n",
              "    .dataframe thead th {\n",
              "        text-align: right;\n",
              "    }\n",
              "</style>\n",
              "<table border=\"1\" class=\"dataframe\">\n",
              "  <thead>\n",
              "    <tr style=\"text-align: right;\">\n",
              "      <th></th>\n",
              "      <th>Tweets</th>\n",
              "    </tr>\n",
              "  </thead>\n",
              "  <tbody>\n",
              "    <tr>\n",
              "      <th>0</th>\n",
              "      <td>Blue Ridge Bank shares halted by NYSE after #b...</td>\n",
              "    </tr>\n",
              "    <tr>\n",
              "      <th>1</th>\n",
              "      <td>😎 Today, that's this #Thursday, we will do a \"...</td>\n",
              "    </tr>\n",
              "    <tr>\n",
              "      <th>2</th>\n",
              "      <td>Guys evening, I have read this article about B...</td>\n",
              "    </tr>\n",
              "    <tr>\n",
              "      <th>3</th>\n",
              "      <td>$BTC A big chance in a billion! Price: \\487264...</td>\n",
              "    </tr>\n",
              "    <tr>\n",
              "      <th>4</th>\n",
              "      <td>This network is secured by 9 508 nodes as of t...</td>\n",
              "    </tr>\n",
              "  </tbody>\n",
              "</table>\n",
              "</div>"
            ],
            "text/plain": [
              "                                              Tweets\n",
              "0  Blue Ridge Bank shares halted by NYSE after #b...\n",
              "1  😎 Today, that's this #Thursday, we will do a \"...\n",
              "2  Guys evening, I have read this article about B...\n",
              "3  $BTC A big chance in a billion! Price: \\487264...\n",
              "4  This network is secured by 9 508 nodes as of t..."
            ]
          },
          "metadata": {
            "tags": []
          },
          "execution_count": 44
        }
      ]
    },
    {
      "cell_type": "code",
      "metadata": {
        "colab": {
          "base_uri": "https://localhost:8080/",
          "height": 419
        },
        "id": "pbjFsCzv4aOh",
        "outputId": "3e611b76-4038-4611-ebf1-f1c4e01be9ff"
      },
      "source": [
        "# Create a function to clean the tweets\n",
        "def cleanTxt(text):\n",
        " text = re.sub('@[A-Za-z0–9]+', '', str(text)) #Removing @mentions\n",
        " text = re.sub('#', '', str(text)) # Removing '#' hash tag\n",
        " text = re.sub('RT[\\s]+', '', str(text)) # Removing RT\n",
        " text = re.sub('https?:\\/\\/\\S+', '', str(text)) # Removing hyperlink\n",
        " text = re.sub('\\r\\n|\\n|\\r/gm', '', str(text)) #Removes misc charecter/s\n",
        " text = re.sub('@', '', str(text)) #Removes misc charecter/s\n",
        " text = re.sub(':', '', str(text)) #Removes misc charecter/s\n",
        " \n",
        " return text\n",
        "\n",
        "\n",
        "def deEmojify(text):\n",
        "    regrex_pattern = re.compile(pattern = \"[\"\n",
        "        u\"\\U0001F600-\\U0001F64F\"  # emoticons\n",
        "        u\"\\U0001F300-\\U0001F5FF\"  # symbols & pictographs\n",
        "        u\"\\U0001F7E2\" # The one green dot emoji everyone loves\n",
        "        u\"\\U0001F680-\\U0001F6FF\"  # transport & map symbols\n",
        "        u\"\\U0001F1E0-\\U0001F1FF\"  # flags (iOS)\n",
        "                           \"]+\", flags = re.UNICODE)\n",
        "    return regrex_pattern.sub(r'',text)\n",
        "    #Not entirely neccesary, but Textblob doesn't consider emojis, so it's a matter of cleaner data.\n",
        "\n",
        "\n",
        "# Clean the tweets/apply filters\n",
        "df['Tweets'] = df['Tweets'].apply(cleanTxt)\n",
        "df['Tweets'] = df['Tweets'].apply(deEmojify)\n",
        "\n",
        "# Show the cleaned tweets\n",
        "df"
      ],
      "execution_count": 45,
      "outputs": [
        {
          "output_type": "execute_result",
          "data": {
            "text/html": [
              "<div>\n",
              "<style scoped>\n",
              "    .dataframe tbody tr th:only-of-type {\n",
              "        vertical-align: middle;\n",
              "    }\n",
              "\n",
              "    .dataframe tbody tr th {\n",
              "        vertical-align: top;\n",
              "    }\n",
              "\n",
              "    .dataframe thead th {\n",
              "        text-align: right;\n",
              "    }\n",
              "</style>\n",
              "<table border=\"1\" class=\"dataframe\">\n",
              "  <thead>\n",
              "    <tr style=\"text-align: right;\">\n",
              "      <th></th>\n",
              "      <th>Tweets</th>\n",
              "    </tr>\n",
              "  </thead>\n",
              "  <tbody>\n",
              "    <tr>\n",
              "      <th>0</th>\n",
              "      <td>Blue Ridge Bank shares halted by NYSE after bi...</td>\n",
              "    </tr>\n",
              "    <tr>\n",
              "      <th>1</th>\n",
              "      <td>Today, that's this Thursday, we will do a \" T...</td>\n",
              "    </tr>\n",
              "    <tr>\n",
              "      <th>2</th>\n",
              "      <td>Guys evening, I have read this article about B...</td>\n",
              "    </tr>\n",
              "    <tr>\n",
              "      <th>3</th>\n",
              "      <td>$BTC A big chance in a billion! Price \\4872644...</td>\n",
              "    </tr>\n",
              "    <tr>\n",
              "      <th>4</th>\n",
              "      <td>This network is secured by 9 508 nodes as of t...</td>\n",
              "    </tr>\n",
              "    <tr>\n",
              "      <th>...</th>\n",
              "      <td>...</td>\n",
              "    </tr>\n",
              "    <tr>\n",
              "      <th>73737</th>\n",
              "      <td>Orchid (OXT) attempting to push through resist...</td>\n",
              "    </tr>\n",
              "    <tr>\n",
              "      <th>73738</th>\n",
              "      <td>The $BTC price is at $57642.34 right now. Comp...</td>\n",
              "    </tr>\n",
              "    <tr>\n",
              "      <th>73739</th>\n",
              "      <td>1) Good Morning! Primary Trend Is Up! Today Is...</td>\n",
              "    </tr>\n",
              "    <tr>\n",
              "      <th>73740</th>\n",
              "      <td>The $BTC price is at $57641.69 right now. Comp...</td>\n",
              "    </tr>\n",
              "    <tr>\n",
              "      <th>73741</th>\n",
              "      <td>In early Feb, just after their 2020 Q4 earning...</td>\n",
              "    </tr>\n",
              "  </tbody>\n",
              "</table>\n",
              "<p>73742 rows × 1 columns</p>\n",
              "</div>"
            ],
            "text/plain": [
              "                                                  Tweets\n",
              "0      Blue Ridge Bank shares halted by NYSE after bi...\n",
              "1       Today, that's this Thursday, we will do a \" T...\n",
              "2      Guys evening, I have read this article about B...\n",
              "3      $BTC A big chance in a billion! Price \\4872644...\n",
              "4      This network is secured by 9 508 nodes as of t...\n",
              "...                                                  ...\n",
              "73737  Orchid (OXT) attempting to push through resist...\n",
              "73738  The $BTC price is at $57642.34 right now. Comp...\n",
              "73739  1) Good Morning! Primary Trend Is Up! Today Is...\n",
              "73740  The $BTC price is at $57641.69 right now. Comp...\n",
              "73741  In early Feb, just after their 2020 Q4 earning...\n",
              "\n",
              "[73742 rows x 1 columns]"
            ]
          },
          "metadata": {
            "tags": []
          },
          "execution_count": 45
        }
      ]
    },
    {
      "cell_type": "code",
      "metadata": {
        "colab": {
          "base_uri": "https://localhost:8080/",
          "height": 419
        },
        "id": "EpS5cc3W4tVI",
        "outputId": "2cb7c6db-07cf-419a-8bd0-cd356bc2b1e4"
      },
      "source": [
        "# Create a function to get the subjectivity\n",
        "def getSubjectivity(text):\n",
        "   return TextBlob(text).sentiment.subjectivity #Subjectivity < 1  but > 0 is more factual, > 1 is very opinionated (0 and +1 are min/max)\n",
        "\n",
        "# Create a function to get the polarity\n",
        "def getPolarity(text):\n",
        "   return  TextBlob(text).sentiment.polarity #Polarity < 0 is more negative, > 0 is more positive (-1 and +1 are the min/max)\n",
        "\n",
        "\n",
        "# Create two new columns 'Subjectivity' & 'Polarity'\n",
        "df['Subjectivity'] = df['Tweets'].apply(getSubjectivity)\n",
        "df['Polarity'] = df['Tweets'].apply(getPolarity)\n",
        "\n",
        "# Show the new dataframe with columns 'Subjectivity' & 'Polarity'\n",
        "df\n",
        "\n"
      ],
      "execution_count": 46,
      "outputs": [
        {
          "output_type": "execute_result",
          "data": {
            "text/html": [
              "<div>\n",
              "<style scoped>\n",
              "    .dataframe tbody tr th:only-of-type {\n",
              "        vertical-align: middle;\n",
              "    }\n",
              "\n",
              "    .dataframe tbody tr th {\n",
              "        vertical-align: top;\n",
              "    }\n",
              "\n",
              "    .dataframe thead th {\n",
              "        text-align: right;\n",
              "    }\n",
              "</style>\n",
              "<table border=\"1\" class=\"dataframe\">\n",
              "  <thead>\n",
              "    <tr style=\"text-align: right;\">\n",
              "      <th></th>\n",
              "      <th>Tweets</th>\n",
              "      <th>Subjectivity</th>\n",
              "      <th>Polarity</th>\n",
              "    </tr>\n",
              "  </thead>\n",
              "  <tbody>\n",
              "    <tr>\n",
              "      <th>0</th>\n",
              "      <td>Blue Ridge Bank shares halted by NYSE after bi...</td>\n",
              "      <td>0.10000</td>\n",
              "      <td>0.000000</td>\n",
              "    </tr>\n",
              "    <tr>\n",
              "      <th>1</th>\n",
              "      <td>Today, that's this Thursday, we will do a \" T...</td>\n",
              "      <td>0.00000</td>\n",
              "      <td>0.000000</td>\n",
              "    </tr>\n",
              "    <tr>\n",
              "      <th>2</th>\n",
              "      <td>Guys evening, I have read this article about B...</td>\n",
              "      <td>0.00000</td>\n",
              "      <td>0.000000</td>\n",
              "    </tr>\n",
              "    <tr>\n",
              "      <th>3</th>\n",
              "      <td>$BTC A big chance in a billion! Price \\4872644...</td>\n",
              "      <td>0.10000</td>\n",
              "      <td>0.000000</td>\n",
              "    </tr>\n",
              "    <tr>\n",
              "      <th>4</th>\n",
              "      <td>This network is secured by 9 508 nodes as of t...</td>\n",
              "      <td>0.10000</td>\n",
              "      <td>0.000000</td>\n",
              "    </tr>\n",
              "    <tr>\n",
              "      <th>...</th>\n",
              "      <td>...</td>\n",
              "      <td>...</td>\n",
              "      <td>...</td>\n",
              "    </tr>\n",
              "    <tr>\n",
              "      <th>73737</th>\n",
              "      <td>Orchid (OXT) attempting to push through resist...</td>\n",
              "      <td>0.10000</td>\n",
              "      <td>0.700000</td>\n",
              "    </tr>\n",
              "    <tr>\n",
              "      <th>73738</th>\n",
              "      <td>The $BTC price is at $57642.34 right now. Comp...</td>\n",
              "      <td>0.30119</td>\n",
              "      <td>0.142857</td>\n",
              "    </tr>\n",
              "    <tr>\n",
              "      <th>73739</th>\n",
              "      <td>1) Good Morning! Primary Trend Is Up! Today Is...</td>\n",
              "      <td>0.43125</td>\n",
              "      <td>0.250000</td>\n",
              "    </tr>\n",
              "    <tr>\n",
              "      <th>73740</th>\n",
              "      <td>The $BTC price is at $57641.69 right now. Comp...</td>\n",
              "      <td>0.30119</td>\n",
              "      <td>0.142857</td>\n",
              "    </tr>\n",
              "    <tr>\n",
              "      <th>73741</th>\n",
              "      <td>In early Feb, just after their 2020 Q4 earning...</td>\n",
              "      <td>0.30000</td>\n",
              "      <td>0.100000</td>\n",
              "    </tr>\n",
              "  </tbody>\n",
              "</table>\n",
              "<p>73742 rows × 3 columns</p>\n",
              "</div>"
            ],
            "text/plain": [
              "                                                  Tweets  ...  Polarity\n",
              "0      Blue Ridge Bank shares halted by NYSE after bi...  ...  0.000000\n",
              "1       Today, that's this Thursday, we will do a \" T...  ...  0.000000\n",
              "2      Guys evening, I have read this article about B...  ...  0.000000\n",
              "3      $BTC A big chance in a billion! Price \\4872644...  ...  0.000000\n",
              "4      This network is secured by 9 508 nodes as of t...  ...  0.000000\n",
              "...                                                  ...  ...       ...\n",
              "73737  Orchid (OXT) attempting to push through resist...  ...  0.700000\n",
              "73738  The $BTC price is at $57642.34 right now. Comp...  ...  0.142857\n",
              "73739  1) Good Morning! Primary Trend Is Up! Today Is...  ...  0.250000\n",
              "73740  The $BTC price is at $57641.69 right now. Comp...  ...  0.142857\n",
              "73741  In early Feb, just after their 2020 Q4 earning...  ...  0.100000\n",
              "\n",
              "[73742 rows x 3 columns]"
            ]
          },
          "metadata": {
            "tags": []
          },
          "execution_count": 46
        }
      ]
    },
    {
      "cell_type": "code",
      "metadata": {
        "id": "yz8CGaHi4zkq"
      },
      "source": [
        "# word cloud visualization just for fun!\n",
        "allWords = ' '.join([twts for twts in df['Tweets']])\n",
        "wordCloud = WordCloud(width=500, height=300, random_state=21, max_font_size=110).generate(allWords)\n",
        "\n",
        "\n",
        "plt.imshow(wordCloud, interpolation=\"bilinear\")\n",
        "plt.axis('off')\n",
        "plt.show()\n"
      ],
      "execution_count": null,
      "outputs": []
    },
    {
      "cell_type": "code",
      "metadata": {
        "id": "IZqI3rB1DWDJ"
      },
      "source": [
        "# Create a function to compute negative (-1), neutral (0) and positive (+1) analysis /tweet\n",
        "def getAnalysis(score):\n",
        "\n",
        "  if score < 0:\n",
        "    return 'Negative'\n",
        "  elif score == 0:\n",
        "    return 'Neutral'\n",
        "  else:\n",
        "    return 'Positive'\n",
        "df['Analysis'] = df['Polarity'].apply(getAnalysis)\n"
      ],
      "execution_count": 48,
      "outputs": []
    },
    {
      "cell_type": "code",
      "metadata": {
        "id": "p7CUu2DxDdOU"
      },
      "source": [
        "# Printing positive tweets (optinonal)\n",
        "print('Printing positive tweets:\\n')\n",
        "j=1\n",
        "sortedDF = df.sort_values(by=['Polarity']) #Sort the tweets\n",
        "for i in range(0, sortedDF.shape[0] ):\n",
        "  if( sortedDF['Analysis'][i] == 'Neutral'):\n",
        "    print(str(j) + ') '+ sortedDF['Tweets'][i])\n",
        "    print()\n",
        "    j= j+1\n",
        "\n",
        "\n",
        "#I seeminlgy failed to remove some emojis (fix this later- checkmark, peace signs, arrows, face emojis)"
      ],
      "execution_count": null,
      "outputs": []
    },
    {
      "cell_type": "code",
      "metadata": {
        "id": "ZfzWJphGDk8y"
      },
      "source": [
        "# Printing negative tweets (optinonal)\n",
        "print('Printing negative tweets:\\n')\n",
        "j=1\n",
        "sortedDF = df.sort_values(by=['Polarity'],ascending=False) #Sort the tweets\n",
        "for i in range(0, sortedDF.shape[0] ):\n",
        "  if( sortedDF['Analysis'][i] == 'Negative'):\n",
        "    print(str(j) + ') '+sortedDF['Tweets'][i])\n",
        "    print()\n",
        "    j=j+1"
      ],
      "execution_count": null,
      "outputs": []
    },
    {
      "cell_type": "code",
      "metadata": {
        "id": "CjJ82aMvDn-l"
      },
      "source": [
        "# Plotting (optinonal and takes a lot of ram 💁)\n",
        "plt.figure(figsize=(8,6)) \n",
        "for i in range(0, df.shape[0]):\n",
        "  plt.scatter(df[\"Polarity\"][i], df[\"Subjectivity\"][i], color='Blue') \n",
        "# plt.scatter(x,y,color)   \n",
        "plt.title('Sentiment Analysis') \n",
        "plt.xlabel('Polarity') \n",
        "plt.ylabel('Subjectivity') \n",
        "plt.show()"
      ],
      "execution_count": null,
      "outputs": []
    },
    {
      "cell_type": "code",
      "metadata": {
        "colab": {
          "base_uri": "https://localhost:8080/"
        },
        "id": "hqpz50dlDrS6",
        "outputId": "cd34e838-8b12-472b-9ceb-bc1b035c71c9"
      },
      "source": [
        "# Print the percentage of positive tweets\n",
        "ptweets = df[df.Analysis == 'Positive']\n",
        "ptweets = ptweets['Tweets']\n",
        "ptweets = round( (ptweets.shape[0] / df.shape[0]) * 100 , 1)\n",
        "print(ptweets)\n",
        "\n",
        "\n",
        "\n"
      ],
      "execution_count": 54,
      "outputs": [
        {
          "output_type": "stream",
          "text": [
            "40.3\n"
          ],
          "name": "stdout"
        }
      ]
    },
    {
      "cell_type": "code",
      "metadata": {
        "colab": {
          "base_uri": "https://localhost:8080/"
        },
        "id": "toLp9zb3O6SP",
        "outputId": "7efba22d-eee6-4796-8002-e7690de75ba1"
      },
      "source": [
        "# Print the percentage of negative tweets\n",
        "ntweets= df[df.Analysis == 'Negative']\n",
        "ntweets = ntweets['Tweets']\n",
        "ntweets = round( (ntweets.shape[0] / df.shape[0]) * 100 , 1)\n",
        "print(ntweets)"
      ],
      "execution_count": 55,
      "outputs": [
        {
          "output_type": "stream",
          "text": [
            "8.8\n"
          ],
          "name": "stdout"
        }
      ]
    },
    {
      "cell_type": "code",
      "metadata": {
        "colab": {
          "base_uri": "https://localhost:8080/"
        },
        "id": "RnmhQJPLO-N8",
        "outputId": "d7c878a2-fea1-4143-b6f9-6a5d159562a8"
      },
      "source": [
        "# Print the percentage of neutral tweets\n",
        "netweets= df[df.Analysis == 'Neutral']\n",
        "netweets = netweets['Tweets']\n",
        "netweets = round( (netweets.shape[0] / df.shape[0]) * 100 , 1)\n",
        "print(netweets)"
      ],
      "execution_count": 56,
      "outputs": [
        {
          "output_type": "stream",
          "text": [
            "50.9\n"
          ],
          "name": "stdout"
        }
      ]
    },
    {
      "cell_type": "code",
      "metadata": {
        "colab": {
          "base_uri": "https://localhost:8080/"
        },
        "id": "igyA5n54PFXw",
        "outputId": "153b0d32-7875-4391-c604-fda69b113b12"
      },
      "source": [
        "if ptweets > ntweets:\n",
        "  print(\"Positive Sentiment\")\n",
        "else:\n",
        "  print(\"Negative Sentiment\")\n",
        "#If the data set is more positive then negative, then the overall sentiment is positive and vice versa.\n"
      ],
      "execution_count": 38,
      "outputs": [
        {
          "output_type": "stream",
          "text": [
            "Positive Sentiment\n"
          ],
          "name": "stdout"
        }
      ]
    },
    {
      "cell_type": "code",
      "metadata": {
        "colab": {
          "base_uri": "https://localhost:8080/",
          "height": 331
        },
        "id": "BvVsS8cqDt05",
        "outputId": "48cf5aa4-6cf8-4624-d802-3784c3e54f81"
      },
      "source": [
        "# Plotting and visualizing the counts to see the results\n",
        "plt.title('Sentiment Analysis')\n",
        "plt.xlabel('Sentiment')\n",
        "plt.ylabel('Counts')\n",
        "df['Analysis'].value_counts().plot(kind = 'bar')\n",
        "plt.show()\n",
        "#Way too much neutral sentiment, will add tokenization next."
      ],
      "execution_count": 57,
      "outputs": [
        {
          "output_type": "display_data",
          "data": {
            "image/png": "[encoded data removed]",
            "text/plain": [
              "<Figure size 432x288 with 1 Axes>"
            ]
          },
          "metadata": {
            "tags": [],
            "needs_background": "light"
          }
        }
      ]
    }
  ]
}